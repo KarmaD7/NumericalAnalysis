{
 "cells": [
  {
   "cell_type": "markdown",
   "metadata": {},
   "source": [
    "# 数值分析 实验3\n",
    "2019011265 计93 丁韶峰"
   ]
  },
  {
   "cell_type": "code",
   "execution_count": 36,
   "metadata": {},
   "outputs": [],
   "source": [
    "import numpy as np\n",
    "import matplotlib.pyplot as plt"
   ]
  },
  {
   "cell_type": "markdown",
   "metadata": {},
   "source": [
    "Cholesky分解"
   ]
  },
  {
   "cell_type": "code",
   "execution_count": 37,
   "metadata": {},
   "outputs": [],
   "source": [
    "def Cholesky(A, n):\n",
    "  L = np.zeros_like(A)\n",
    "\n",
    "  for j in range(n):\n",
    "    L[j][j] = A[j][j]\n",
    "    for k in range(j):\n",
    "      L[j][j] -= L[j][k] ** 2\n",
    "    L[j][j] = np.sqrt(L[j][j])\n",
    "    for i in range(j + 1, n):\n",
    "      L[i][j] = A[i][j]\n",
    "      for k in range(j):\n",
    "        L[i][j] -= L[i][k] * L[j][k]\n",
    "      L[i][j] /= L[j][j]\n",
    "\n",
    "  return L"
   ]
  },
  {
   "cell_type": "code",
   "execution_count": 38,
   "metadata": {},
   "outputs": [],
   "source": [
    "def solve(L, b, n):\n",
    "  # Ly = b\n",
    "  y = np.zeros_like(b)\n",
    "  for i in range(n):\n",
    "    y[i] = b[i]\n",
    "    for j in range(0, i):\n",
    "      y[i] -= L[i][j] * y[j]\n",
    "    y[i] /= L[i][i]\n",
    "\n",
    "  # LTx = y\n",
    "  x = np.zeros_like(b)\n",
    "  for i in reversed(range(n)):\n",
    "    x[i] = y[i]\n",
    "    for j in reversed((range(i + 1, n))):\n",
    "      x[i] -= L[j][i] * x[j]\n",
    "    x[i] /= L[i][i]\n",
    "  return x"
   ]
  },
  {
   "cell_type": "code",
   "execution_count": 39,
   "metadata": {},
   "outputs": [],
   "source": [
    "def compute(n):\n",
    "  H = np.fromfunction(lambda i, j : 1.0 / (i + j + 1), (n, n))\n",
    "  ones = np.ones(n)\n",
    "  print(\"cond is {}\".format(np.linalg.cond(H)))\n",
    "  b = np.dot(H, ones)\n",
    "  L = Cholesky(H, n)\n",
    "  x = solve(L, b, n)\n",
    "  r = np.max(np.abs(b - np.dot(H, x)))\n",
    "  delta = np.max(np.abs(ones - x))\n",
    "  print(\"no disturbance, r is {}, delta is {}\".format(r, delta))\n",
    "  x = solve(L, b + np.random.normal(0, 1e-7, n), n)\n",
    "  r = np.max(np.abs(b - np.dot(H, x)))\n",
    "  delta = np.max(np.abs(ones - x))\n",
    "  print(\"with disturbance, r is {}, delta is {}\".format(r, delta))"
   ]
  },
  {
   "cell_type": "code",
   "execution_count": 40,
   "metadata": {},
   "outputs": [
    {
     "name": "stdout",
     "output_type": "stream",
     "text": [
      "cond is 15257575566.627958\n",
      "no disturbance, r is 4.440892098500626e-16, delta is 3.2588079057482844e-07\n",
      "with disturbance, r is 1.2478448052632984e-07, delta is 44.92419836754452\n",
      "cond is 16025028168113.176\n",
      "no disturbance, r is 8.881784197001252e-16, delta is 0.0005932324447111004\n",
      "with disturbance, r is 1.823562434388748e-07, delta is 886386.3676761363\n",
      "cond is 1.6211639047474996e+16\n",
      "no disturbance, r is 2.220446049250313e-16, delta is 0.47735610905468484\n",
      "with disturbance, r is 1.9918960525444618e-07, delta is 573327055.2049657\n"
     ]
    }
   ],
   "source": [
    "n_list = [8, 10, 12]\n",
    "for n in n_list:\n",
    "  compute(n)"
   ]
  },
  {
   "cell_type": "code",
   "execution_count": null,
   "metadata": {},
   "outputs": [],
   "source": []
  }
 ],
 "metadata": {
  "interpreter": {
   "hash": "0cc44e13752fe5c7e7ea66c2ff7f4ef0450ec37daad55d454d745d29f777868d"
  },
  "kernelspec": {
   "display_name": "Python 3.8.5 ('ML')",
   "language": "python",
   "name": "python3"
  },
  "language_info": {
   "codemirror_mode": {
    "name": "ipython",
    "version": 3
   },
   "file_extension": ".py",
   "mimetype": "text/x-python",
   "name": "python",
   "nbconvert_exporter": "python",
   "pygments_lexer": "ipython3",
   "version": "3.8.5"
  },
  "orig_nbformat": 4
 },
 "nbformat": 4,
 "nbformat_minor": 2
}
