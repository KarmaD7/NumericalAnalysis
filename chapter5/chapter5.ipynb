{
 "cells": [
  {
   "cell_type": "markdown",
   "metadata": {},
   "source": [
    "# 数值分析 实验5\n",
    "2019011265 计93 丁韶峰"
   ]
  },
  {
   "cell_type": "code",
   "execution_count": 2,
   "metadata": {},
   "outputs": [],
   "source": [
    "import numpy as np"
   ]
  },
  {
   "cell_type": "markdown",
   "metadata": {},
   "source": [
    "幂法"
   ]
  },
  {
   "cell_type": "code",
   "execution_count": 3,
   "metadata": {},
   "outputs": [],
   "source": [
    "def pow_method(A):\n",
    "  n = A.shape[0]\n",
    "  v = np.ones(n)\n",
    "  old_lambda = 0\n",
    "  while True:\n",
    "    v = np.dot(A, v)\n",
    "    new_lambda = v[np.argmax(np.abs(v))]\n",
    "    v = v / new_lambda\n",
    "    if (np.abs(new_lambda - old_lambda) < 1e-5):\n",
    "      return new_lambda, v\n",
    "    old_lambda = new_lambda"
   ]
  },
  {
   "cell_type": "code",
   "execution_count": 4,
   "metadata": {},
   "outputs": [
    {
     "name": "stdout",
     "output_type": "stream",
     "text": [
      "A lambda 12.254320584751564 v [-0.67401981  1.         -0.88955964]\n",
      "B lambda 98.52169772379699 v [-0.60397234  1.         -0.25113513  0.14895345]\n"
     ]
    }
   ],
   "source": [
    "A = np.array([[5, -4, 1], [-4, 6, -4], [1, -4, 7]])\n",
    "B = np.array([[25, -41, 10, -6], [-41, 68, -17, 10], [10, -17, 5, -3], [-6, 10, -3, 2]])\n",
    "lambda_a, v_a = pow_method(A)\n",
    "lambda_b, v_b = pow_method(B)\n",
    "print(\"A lambda {} v {}\".format(lambda_a, v_a))\n",
    "print(\"B lambda {} v {}\".format(lambda_b, v_b))"
   ]
  },
  {
   "cell_type": "code",
   "execution_count": 85,
   "metadata": {},
   "outputs": [],
   "source": [
    "def householder(x):\n",
    "  sign = 1 if x[0] >= 0 else -1\n",
    "  sigma = sign * np.linalg.norm(x)\n",
    "  \n",
    "  if np.abs(sigma - x[0]) < 1e-8:\n",
    "    return None\n",
    "  y = np.copy(x)\n",
    "  # print(x)\n",
    "  # print(y)\n",
    "  y[0] += sigma\n",
    "  return y"
   ]
  },
  {
   "cell_type": "code",
   "execution_count": 86,
   "metadata": {},
   "outputs": [],
   "source": [
    "def QR(A):\n",
    "  n = A.shape[0]\n",
    "  R = np.copy(A)\n",
    "  Q = np.identity(n)\n",
    "  for k in range(n - 1):\n",
    "    R0 = R[k:, k:]\n",
    "    v = householder(R0[:, 0])\n",
    "    if v is None:\n",
    "      continue\n",
    "    w = v / np.linalg.norm(v)\n",
    "    w = w.reshape((1, len(w)))\n",
    "    H = np.identity(n)\n",
    "    H[k:, k:] = np.identity(n - k) - (2 * np.matmul(w.transpose(), w))\n",
    "    Q = np.matmul(Q, H)\n",
    "    # print(Q)\n",
    "    beta = np.dot(v.transpose(), v)\n",
    "    for j in range(n - k):\n",
    "      gamma = np.dot(v.transpose(), R0[:, j])\n",
    "      # print(gamma)\n",
    "      R0[:, j] -= 2 * gamma * v / beta\n",
    "  return Q, R"
   ]
  },
  {
   "cell_type": "code",
   "execution_count": 87,
   "metadata": {},
   "outputs": [],
   "source": [
    "def is_quasi_diag(A):\n",
    "  n = A.shape[0]\n",
    "  is_zero = A < 1e-6\n",
    "  i = 0\n",
    "  while i < n:\n",
    "    is_zero[i, i] = True\n",
    "    if i < n - 1 and is_zero[i + 1, i] == False:\n",
    "      is_zero[i + 1, i] = True\n",
    "      i += 2\n",
    "    else:\n",
    "      i += 1\n",
    "  for i in range(n):\n",
    "    for j in range(i):\n",
    "      if not is_zero[i, j]:\n",
    "        return False\n",
    "  return True"
   ]
  },
  {
   "cell_type": "code",
   "execution_count": 88,
   "metadata": {},
   "outputs": [],
   "source": [
    "def get_eigenvalue(A):\n",
    "  n = A.shape[0]\n",
    "  eigenvalue = np.zeros(n, dtype=np.complex128)\n",
    "  i = 0\n",
    "  while i < n:\n",
    "    if i < n - 1 and A[i + 1, i] > 1e-6:\n",
    "      eigenvalue[i : i + 2] = np.linalg.eig(A[i:i + 2, i:i + 2])[0]\n",
    "      i += 2\n",
    "    else:\n",
    "      eigenvalue[i] = A[i, i]\n",
    "      i += 1\n",
    "  return eigenvalue"
   ]
  },
  {
   "cell_type": "code",
   "execution_count": 99,
   "metadata": {},
   "outputs": [],
   "source": [
    "def QR_iter(A):\n",
    "  n = A.shape[0]\n",
    "  cnt = 0\n",
    "  while True:\n",
    "    Q, R = QR(A)\n",
    "    # print(Q)\n",
    "    # print(R)\n",
    "    new_A = np.matmul(R, Q)\n",
    "    cnt += 1\n",
    "    # print(new_A)\n",
    "    if is_quasi_diag(new_A):\n",
    "      break\n",
    "    if np.max((np.abs(new_A - A))) < 1e-6:\n",
    "      print(\"QR coverges in {} steps, can't get eigenvalues\".format(cnt))\n",
    "      return new_A, None\n",
    "    A = new_A\n",
    "  print(\"QR coverges in {} steps\".format(cnt))\n",
    "  return A, get_eigenvalue(A)\n",
    "    "
   ]
  },
  {
   "cell_type": "code",
   "execution_count": 105,
   "metadata": {},
   "outputs": [],
   "source": [
    "def QR_shift_iter(A):\n",
    "  n = A.shape[0]\n",
    "  k = n\n",
    "  cnt = 0\n",
    "  while k > 1 and np.abs(A[k - 1, k - 2]) > 1e-6:\n",
    "    old_A = np.copy(A)\n",
    "    s = A[k - 1, k - 1]\n",
    "    Q, R = QR(A[:k, :k] - s * np.identity(k))\n",
    "    A[:k, :k] = np.matmul(R, Q) + s * np.identity(k)\n",
    "    cnt += 1\n",
    "    if is_quasi_diag(A):\n",
    "      break\n",
    "    if np.max(np.abs(A - old_A) < 1e-6):\n",
    "      print(\"shifted QR coverges in {} steps, can't get eigenvalues\".format(cnt))\n",
    "  print(\"shifted QR coverges in {} steps\".format(cnt))\n",
    "  return A, get_eigenvalue(A)\n"
   ]
  },
  {
   "cell_type": "code",
   "execution_count": 106,
   "metadata": {},
   "outputs": [
    {
     "name": "stdout",
     "output_type": "stream",
     "text": [
      "[[-0.5 -0.5 -0.5 -0.5]\n",
      " [-0.5 -0.5  0.5  0.5]\n",
      " [-0.5  0.5 -0.5  0.5]\n",
      " [-0.5  0.5  0.5 -0.5]]\n",
      "[[-1.00000000e+00  0.00000000e+00  0.00000000e+00  0.00000000e+00]\n",
      " [ 0.00000000e+00 -1.00000000e+00  1.11022302e-16  1.11022302e-16]\n",
      " [ 0.00000000e+00  0.00000000e+00 -1.00000000e+00  0.00000000e+00]\n",
      " [ 0.00000000e+00  0.00000000e+00  0.00000000e+00 -1.00000000e+00]]\n",
      "[[ 0.5  0.5  0.5  0.5]\n",
      " [ 0.5  0.5 -0.5 -0.5]\n",
      " [ 0.5 -0.5  0.5 -0.5]\n",
      " [ 0.5 -0.5 -0.5  0.5]]\n",
      "QR coverges in 1 steps, can't get eigenvalues\n",
      "[[ 0.5  0.5  0.5  0.5]\n",
      " [ 0.5  0.5 -0.5 -0.5]\n",
      " [ 0.5 -0.5  0.5 -0.5]\n",
      " [ 0.5 -0.5 -0.5  0.5]]\n",
      "None\n"
     ]
    }
   ],
   "source": [
    "A = np.matrix([[0.5, 0.5, 0.5, 0.5], [0.5, 0.5, -0.5 , -0.5], [0.5, -0.5, 0.5, -0.5], [0.5, -0.5, -0.5, 0.5]])\n",
    "final_A, eig_A = QR_iter(A)\n",
    "print(final_A)\n",
    "print(eig_A)"
   ]
  },
  {
   "cell_type": "code",
   "execution_count": 104,
   "metadata": {},
   "outputs": [
    {
     "name": "stdout",
     "output_type": "stream",
     "text": [
      "QR coverges in 3 steps\n",
      "[[-1.00000000e+00 -1.77392636e-06  1.02438497e-06 -7.24404755e-07]\n",
      " [-1.77392636e-06  1.00000000e+00  9.08451112e-13 -6.42446563e-13]\n",
      " [ 1.02438497e-06  9.08519774e-13  1.00000000e+00  3.71258381e-13]\n",
      " [-7.24404755e-07 -6.42476638e-13  3.71108492e-13  1.00000000e+00]]\n",
      "[-1.+0.j  1.+0.j  1.+0.j  1.+0.j]\n"
     ]
    }
   ],
   "source": [
    "shifted_final_A, shifted_eig_A = QR_shift_iter(A)\n",
    "print(shifted_final_A)\n",
    "print(shifted_eig_A)"
   ]
  },
  {
   "cell_type": "code",
   "execution_count": null,
   "metadata": {},
   "outputs": [],
   "source": []
  }
 ],
 "metadata": {
  "interpreter": {
   "hash": "0cc44e13752fe5c7e7ea66c2ff7f4ef0450ec37daad55d454d745d29f777868d"
  },
  "kernelspec": {
   "display_name": "Python 3.8.5 ('ML')",
   "language": "python",
   "name": "python3"
  },
  "language_info": {
   "codemirror_mode": {
    "name": "ipython",
    "version": 3
   },
   "file_extension": ".py",
   "mimetype": "text/x-python",
   "name": "python",
   "nbconvert_exporter": "python",
   "pygments_lexer": "ipython3",
   "version": "3.8.5"
  },
  "orig_nbformat": 4
 },
 "nbformat": 4,
 "nbformat_minor": 2
}
