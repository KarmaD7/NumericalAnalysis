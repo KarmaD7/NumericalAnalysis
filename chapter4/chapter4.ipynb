{
 "cells": [
  {
   "cell_type": "markdown",
   "metadata": {},
   "source": [
    "# 数值分析 实验4\n",
    "2019011265 计93 丁韶峰"
   ]
  },
  {
   "cell_type": "markdown",
   "metadata": {},
   "source": [
    "## 实验内容\n",
    "\n",
    "将微分方程离散化，得到线性方程组。用雅可比，G-S，SOR迭代法分别求解问题，并计算与精确解的误差。"
   ]
  },
  {
   "cell_type": "markdown",
   "metadata": {},
   "source": [
    "## 实验过程\n",
    "\n",
    "首先引入必要的包。"
   ]
  },
  {
   "cell_type": "code",
   "execution_count": 94,
   "metadata": {},
   "outputs": [],
   "source": [
    "import numpy as np"
   ]
  },
  {
   "cell_type": "markdown",
   "metadata": {},
   "source": [
    "定义相关常数。"
   ]
  },
  {
   "cell_type": "code",
   "execution_count": 95,
   "metadata": {},
   "outputs": [],
   "source": [
    "n = 100\n",
    "a = 0.5\n",
    "h = 1 / n"
   ]
  },
  {
   "cell_type": "markdown",
   "metadata": {},
   "source": [
    "生成数据。需要特别考虑边界情况。"
   ]
  },
  {
   "cell_type": "code",
   "execution_count": 96,
   "metadata": {},
   "outputs": [],
   "source": [
    "def gen_data(eps):\n",
    "  A = np.zeros((n - 1, n - 1))\n",
    "  for i in range(n - 1):\n",
    "    if i != 0:\n",
    "      A[i][i - 1] = eps\n",
    "    A[i][i] = -(2 * eps + h)\n",
    "    if i != n - 2:\n",
    "      A[i][i + 1] = eps + h\n",
    "  b = np.zeros(n - 1)\n",
    "  for i in range(n - 1):\n",
    "    b[i] = a * h * h\n",
    "    if i == n - 2:\n",
    "      b[i] -= eps + h\n",
    "  return A, b"
   ]
  },
  {
   "cell_type": "markdown",
   "metadata": {},
   "source": [
    "根据表达式求出某点对应的精确解。"
   ]
  },
  {
   "cell_type": "code",
   "execution_count": 97,
   "metadata": {},
   "outputs": [],
   "source": [
    "def accurate_sol(x, eps):\n",
    "  return (1 - a) / (1 - np.exp(-1 / eps)) * (1 - np.exp(-x / eps)) + a * x"
   ]
  },
  {
   "cell_type": "markdown",
   "metadata": {},
   "source": [
    "Jacobi迭代法。由于矩阵稀疏，只需对一行中两到三个非零元素进行计算即可。之后的两种方法同理。根据课程群中讨论，相邻解误差小于1e-4时停止计算，而不是1e-3。"
   ]
  },
  {
   "cell_type": "code",
   "execution_count": 98,
   "metadata": {},
   "outputs": [],
   "source": [
    "def jacobi(A, b, n):\n",
    "  x = np.ones_like(b)\n",
    "  cnt = 0\n",
    "  while True:\n",
    "    y = np.copy(x)\n",
    "    for i in range(n):\n",
    "      x[i] = b[i]\n",
    "      if i != 0:\n",
    "        x[i] -= A[i][i - 1] * y [i - 1]\n",
    "      if i != n - 1:\n",
    "        x[i] -= A[i][i + 1] * y[i + 1]\n",
    "      x[i] /= A[i][i]\n",
    "    cnt += 1\n",
    "    if np.max(np.abs(x - y)) < 1e-4:\n",
    "      print(\"Jacobi stops after {} iterations\".format(cnt))\n",
    "      return x"
   ]
  },
  {
   "cell_type": "markdown",
   "metadata": {},
   "source": [
    "GS迭代法。"
   ]
  },
  {
   "cell_type": "code",
   "execution_count": 99,
   "metadata": {},
   "outputs": [],
   "source": [
    "def gs(A, b, n):\n",
    "  x = np.ones_like(b)\n",
    "  cnt = 0\n",
    "  while True:\n",
    "    y = np.copy(x)\n",
    "    for i in range(n):\n",
    "      x[i] = b[i]\n",
    "      if i != 0:\n",
    "        x[i] -= A[i][i - 1] * x[i - 1]\n",
    "      if i != n - 1:\n",
    "        x[i] -= A[i][i + 1] * x[i + 1]\n",
    "      x[i] /= A[i][i]\n",
    "    cnt += 1\n",
    "    if np.max(np.abs(x - y)) < 1e-4:\n",
    "      print(\"GS stops after {} iterations\".format(cnt))\n",
    "      return x"
   ]
  },
  {
   "cell_type": "markdown",
   "metadata": {},
   "source": [
    "SOR迭代法。"
   ]
  },
  {
   "cell_type": "code",
   "execution_count": 100,
   "metadata": {},
   "outputs": [],
   "source": [
    "def sor(A, b, omega, n):\n",
    "  x = np.ones_like(b)\n",
    "  cnt = 0\n",
    "  while True:\n",
    "    y = np.copy(x)\n",
    "    for i in range(n):\n",
    "      x[i] = b[i]\n",
    "      if i != 0:\n",
    "        x[i] -= A[i][i - 1] * x[i - 1]\n",
    "      if i != n - 1:\n",
    "        x[i] -= A[i][i + 1] * x[i + 1]\n",
    "      x[i] /= A[i][i]\n",
    "      x[i] = (1 - omega) * y[i] + omega * x[i]\n",
    "    cnt += 1\n",
    "    if np.max(np.abs(x - y)) < 1e-4:\n",
    "      print(\"SOR stops after {} iterations\".format(cnt))\n",
    "      return x"
   ]
  },
  {
   "cell_type": "markdown",
   "metadata": {},
   "source": [
    "计算无穷范数和二范数下迭代解和精确解的误差。"
   ]
  },
  {
   "cell_type": "code",
   "execution_count": 101,
   "metadata": {},
   "outputs": [],
   "source": [
    "def compute_arr(appro_sol, acc_sol):\n",
    "  appro_sol = appro_sol.reshape(np.shape(acc_sol))\n",
    "  inv_norm = np.max(np.abs(appro_sol - acc_sol))\n",
    "  two_norm = np.linalg.norm(appro_sol - acc_sol)\n",
    "  return inv_norm, two_norm"
   ]
  },
  {
   "cell_type": "markdown",
   "metadata": {},
   "source": [
    "外层过程。用三种方法进行求解，并计算误差。"
   ]
  },
  {
   "cell_type": "code",
   "execution_count": 102,
   "metadata": {},
   "outputs": [],
   "source": [
    "def compute(eps):\n",
    "  A, b = gen_data(eps)\n",
    "  acc_sol = [accurate_sol(x, eps) for x in np.arange(h, 1, h)]\n",
    "  jacobi_sol = jacobi(A, b, n - 1)\n",
    "  gs_sol = gs(A, b, n - 1)\n",
    "  sor_sol = sor(A, b, 0.9, n - 1)\n",
    "  jacobi_inv, jacobi_two = compute_arr(jacobi_sol, acc_sol)\n",
    "  gs_inv, gs_two = compute_arr(gs_sol, acc_sol)\n",
    "  sor_inv, sor_two = compute_arr(sor_sol, acc_sol)\n",
    "  print(\"jacobi error: 2 norm {}, inv norm {}\".format(jacobi_inv, jacobi_two))\n",
    "  print(\"gs error: 2 norm {}, inv norm {}\".format(gs_inv, gs_two))\n",
    "  print(\"sor error: 2 norm {}, inv norm {}\".format(sor_inv, sor_two))"
   ]
  },
  {
   "cell_type": "markdown",
   "metadata": {},
   "source": [
    "对题目要求的不同$\\epsilon$重复实验。"
   ]
  },
  {
   "cell_type": "code",
   "execution_count": 103,
   "metadata": {},
   "outputs": [
    {
     "name": "stdout",
     "output_type": "stream",
     "text": [
      "Jacobi stops after 3301 iterations\n",
      "GS stops after 1690 iterations\n",
      "SOR stops after 1831 iterations\n",
      "jacobi error: 2 norm 0.1040968874517717, inv norm 0.7325072021540333\n",
      "gs error: 2 norm 0.09812757919867121, inv norm 0.6899053650346129\n",
      "sor error: 2 norm 0.1197339261741952, inv norm 0.8417088491023286\n",
      "Jacobi stops after 1536 iterations\n",
      "GS stops after 999 iterations\n",
      "SOR stops after 1134 iterations\n",
      "jacobi error: 2 norm 0.05417529293513368, inv norm 0.309366940903285\n",
      "gs error: 2 norm 0.025413701013942358, inv norm 0.14366877632279315\n",
      "sor error: 2 norm 0.032773982651351674, inv norm 0.18560636065813976\n",
      "Jacobi stops after 365 iterations\n",
      "GS stops after 237 iterations\n",
      "SOR stops after 277 iterations\n",
      "jacobi error: 2 norm 0.06439168025723319, inv norm 0.09424968882833301\n",
      "gs error: 2 norm 0.06518557051249729, inv norm 0.09651434971616092\n",
      "sor error: 2 norm 0.06497258681895757, inv norm 0.095926404587772\n",
      "Jacobi stops after 106 iterations\n",
      "GS stops after 103 iterations\n",
      "SOR stops after 120 iterations\n",
      "jacobi error: 2 norm 0.004808154489188476, inv norm 0.004808235684323808\n",
      "gs error: 2 norm 0.004926534567720187, inv norm 0.004926738187729387\n",
      "sor error: 2 norm 0.004836294473050451, inv norm 0.0048363923124258865\n"
     ]
    }
   ],
   "source": [
    "compute(1)\n",
    "compute(0.1)\n",
    "compute(0.01)\n",
    "compute(0.0001)"
   ]
  },
  {
   "cell_type": "markdown",
   "metadata": {},
   "source": [
    "可得结果如上。"
   ]
  },
  {
   "cell_type": "markdown",
   "metadata": {},
   "source": [
    "## 实验结论\n",
    "\n",
    "$\\epsilon$ 较小时，原微分方程的解更接近线性，因此用差分的方式得到的解更为精确，且收敛速度更快。\n",
    "\n",
    "对于本问题，Jacobi，GS和SOR迭代法有不同的收敛速度和精确度。$\\epsilon$ 较大时，Jacobi法收敛最慢，误差最大；SOR法次之（取$\\omega=0.9$)，GS法最好。$\\epsilon$较小时，三种方法的效果比较接近。"
   ]
  }
 ],
 "metadata": {
  "interpreter": {
   "hash": "0cc44e13752fe5c7e7ea66c2ff7f4ef0450ec37daad55d454d745d29f777868d"
  },
  "kernelspec": {
   "display_name": "Python 3.8.5 ('ML')",
   "language": "python",
   "name": "python3"
  },
  "language_info": {
   "codemirror_mode": {
    "name": "ipython",
    "version": 3
   },
   "file_extension": ".py",
   "mimetype": "text/x-python",
   "name": "python",
   "nbconvert_exporter": "python",
   "pygments_lexer": "ipython3",
   "version": "3.8.5"
  },
  "orig_nbformat": 4
 },
 "nbformat": 4,
 "nbformat_minor": 2
}
