{
 "cells": [
  {
   "cell_type": "markdown",
   "metadata": {},
   "source": [
    "# 数值分析 实验4\n",
    "2019011265 计93 丁韶峰"
   ]
  },
  {
   "cell_type": "code",
   "execution_count": 11,
   "metadata": {},
   "outputs": [],
   "source": [
    "import numpy as np"
   ]
  },
  {
   "cell_type": "code",
   "execution_count": 12,
   "metadata": {},
   "outputs": [],
   "source": [
    "n = 100\n",
    "a = 0.5\n",
    "h = 1 / n"
   ]
  },
  {
   "cell_type": "code",
   "execution_count": 25,
   "metadata": {},
   "outputs": [],
   "source": [
    "def gen_data(eps):\n",
    "  A = np.zeros((n - 1, n - 1))\n",
    "  for i in range(n - 1):\n",
    "    if i != 0:\n",
    "      A[i][i - 1] = eps\n",
    "    A[i][i] = -(2 * eps + h)\n",
    "    if i != n - 2:\n",
    "      A[i][i + 1] = eps + h\n",
    "  b = np.zeros(n - 1)\n",
    "  for i in range(n - 1):\n",
    "    b[i] = a * h * h\n",
    "    if i == n - 2:\n",
    "      b[i] -= eps + h\n",
    "  return A, b"
   ]
  },
  {
   "cell_type": "code",
   "execution_count": 14,
   "metadata": {},
   "outputs": [],
   "source": [
    "def accurate_sol(x, eps):\n",
    "  return (1 - a) / (1 - np.exp(-1 / eps)) * (1 - np.exp(-x / eps)) + a * x"
   ]
  },
  {
   "cell_type": "code",
   "execution_count": 15,
   "metadata": {},
   "outputs": [],
   "source": [
    "def jacobi(A, b, n):\n",
    "  x = np.ones_like(b)\n",
    "  cnt = 0\n",
    "  while True:\n",
    "    y = np.copy(x)\n",
    "    for i in range(n):\n",
    "      x[i] = b[i]\n",
    "      if i != 0:\n",
    "        x[i] -= A[i][i - 1] * y [i - 1]\n",
    "      if i != n - 1:\n",
    "        x[i] -= A[i][i + 1] * y[i + 1]\n",
    "      x[i] /= A[i][i]\n",
    "    cnt += 1\n",
    "    if np.array_equiv(np.around(x, decimals=4), np.around(y, decimals=4)):\n",
    "      print(\"Jacobi stops after {} iterations\".format(cnt))\n",
    "      return x"
   ]
  },
  {
   "cell_type": "code",
   "execution_count": 16,
   "metadata": {},
   "outputs": [],
   "source": [
    "def gs(A, b, n):\n",
    "  x = np.ones_like(b)\n",
    "  cnt = 0\n",
    "  while True:\n",
    "    y = np.copy(x)\n",
    "    for i in range(n):\n",
    "      x[i] = b[i]\n",
    "      if i != 0:\n",
    "        x[i] -= A[i][i - 1] * x[i - 1]\n",
    "      if i != n - 1:\n",
    "        x[i] -= A[i][i + 1] * x[i + 1]\n",
    "      x[i] /= A[i][i]\n",
    "    cnt += 1\n",
    "    if np.array_equiv(np.around(x, decimals=4), np.around(y, decimals=4)):\n",
    "      print(\"GS stops after {} iterations\".format(cnt))\n",
    "      return x"
   ]
  },
  {
   "cell_type": "code",
   "execution_count": 17,
   "metadata": {},
   "outputs": [],
   "source": [
    "def sor(A, b, omega, n):\n",
    "  x = np.ones_like(b)\n",
    "  cnt = 0\n",
    "  while True:\n",
    "    y = np.copy(x)\n",
    "    for i in range(n):\n",
    "      x[i] = b[i]\n",
    "      if i != 0:\n",
    "        x[i] -= A[i][i - 1] * x[i - 1]\n",
    "      if i != n - 1:\n",
    "        x[i] -= A[i][i + 1] * x[i + 1]\n",
    "      x[i] /= A[i][i]\n",
    "      x[i] = (1 - omega) * y[i] + omega * x[i]\n",
    "    cnt += 1\n",
    "    if np.array_equiv(np.around(x, decimals=4), np.around(y, decimals=4)):\n",
    "      print(\"SOR stops after {} iterations\".format(cnt))\n",
    "      return x"
   ]
  },
  {
   "cell_type": "code",
   "execution_count": 36,
   "metadata": {},
   "outputs": [],
   "source": [
    "def compute_arr(appro_sol, acc_sol):\n",
    "  appro_sol = appro_sol.reshape(np.shape(acc_sol))\n",
    "  inv_norm = np.max(np.abs(appro_sol - acc_sol))\n",
    "  two_norm = np.linalg.norm(appro_sol - acc_sol)\n",
    "  return inv_norm, two_norm"
   ]
  },
  {
   "cell_type": "code",
   "execution_count": 34,
   "metadata": {},
   "outputs": [],
   "source": [
    "def compute(eps):\n",
    "  A, b = gen_data(eps)\n",
    "  acc_sol = [accurate_sol(x, eps) for x in np.arange(h, 1, h)]\n",
    "  jacobi_sol = jacobi(A, b, n - 1)\n",
    "  gs_sol = gs(A, b, n - 1)\n",
    "  sor_sol = sor(A, b, 1.1, n - 1)\n",
    "  jacobi_inv, jacobi_two = compute_arr(jacobi_sol, acc_sol)\n",
    "  gs_inv, gs_two = compute_arr(gs_sol, acc_sol)\n",
    "  sor_inv, sor_two = compute_arr(sor_sol, acc_sol)\n",
    "  print(\"jacobi error: 2 norm {}, inv norm {}\".format(jacobi_inv, jacobi_two))\n",
    "  print(\"gs error: 2 norm {}, inv norm {}\".format(gs_inv, gs_two))\n",
    "  print(\"sor error: 2 norm {}, inv norm {}\".format(sor_inv, sor_two))"
   ]
  },
  {
   "cell_type": "code",
   "execution_count": 41,
   "metadata": {},
   "outputs": [
    {
     "name": "stdout",
     "output_type": "stream",
     "text": [
      "Jacobi stops after 6771 iterations\n",
      "GS stops after 3937 iterations\n",
      "SOR stops after 3278 iterations\n",
      "jacobi error: 2 norm 0.017719708807683032, inv norm 0.12471265293007759\n",
      "gs error: 2 norm 0.009821996442479053, inv norm 0.06902704596848404\n",
      "sor error: 2 norm 0.009091856070018278, inv norm 0.06387801248061144\n"
     ]
    }
   ],
   "source": [
    "compute(1)"
   ]
  },
  {
   "cell_type": "code",
   "execution_count": null,
   "metadata": {},
   "outputs": [],
   "source": []
  }
 ],
 "metadata": {
  "interpreter": {
   "hash": "0cc44e13752fe5c7e7ea66c2ff7f4ef0450ec37daad55d454d745d29f777868d"
  },
  "kernelspec": {
   "display_name": "Python 3.8.5 ('ML')",
   "language": "python",
   "name": "python3"
  },
  "language_info": {
   "codemirror_mode": {
    "name": "ipython",
    "version": 3
   },
   "file_extension": ".py",
   "mimetype": "text/x-python",
   "name": "python",
   "nbconvert_exporter": "python",
   "pygments_lexer": "ipython3",
   "version": "3.8.5"
  },
  "orig_nbformat": 4
 },
 "nbformat": 4,
 "nbformat_minor": 2
}
